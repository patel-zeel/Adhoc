{
  "nbformat": 4,
  "nbformat_minor": 0,
  "metadata": {
    "colab": {
      "name": "Why Linear kernel is linear.ipynb",
      "provenance": [],
      "collapsed_sections": [],
      "authorship_tag": "ABX9TyN9gKKZwZnNDgLfy0Zh5Sqp",
      "include_colab_link": true
    },
    "kernelspec": {
      "name": "python3",
      "display_name": "Python 3"
    }
  },
  "cells": [
    {
      "cell_type": "markdown",
      "metadata": {
        "id": "view-in-github",
        "colab_type": "text"
      },
      "source": [
        "<a href=\"https://colab.research.google.com/github/patel-zeel/Adhoc/blob/master/_notebooks/Why_Linear_kernel_is_linear.ipynb\" target=\"_parent\"><img src=\"https://colab.research.google.com/assets/colab-badge.svg\" alt=\"Open In Colab\"/></a>"
      ]
    },
    {
      "cell_type": "markdown",
      "metadata": {
        "id": "ngWvGlRg2efb"
      },
      "source": [
        "# Why functions from Linear Kernel are linear\r\n",
        "> An attempt to prove colinearity of functions drawn from a multivariate normal distribution\r\n",
        "\r\n",
        "- toc:true- branch: master\r\n",
        "- badges: true\r\n",
        "- comments: true\r\n",
        "- author: Zeel B Patel\r\n",
        "- categories: [GP]"
      ]
    },
    {
      "cell_type": "markdown",
      "metadata": {
        "id": "aLlvU5p2v2hV"
      },
      "source": [
        "From [Wikipedia][1], A general approach of drawing functions from the multivariate normal distribution $\\mathcal{N}(O,\\Sigma)$ of dimension $n$ is as the following,\r\n",
        "1. Find any real matrix $A$, such that $AA^T=\\Sigma$.\r\n",
        "1. Any sample $Y = AZ$ will follow our multivariate distribution, where $Z$ is any random sample taken from $N$ dimensional standard normal distribution.\r\n",
        "\r\n",
        "Our linear kernel function following the [distill article][2] is given as,\r\n",
        "$$\r\n",
        "K(x_i,x_j) = \\sigma_b^2 + \\sigma^2(x_i-c)(x_j-c)\r\n",
        "$$\r\n",
        "\r\n",
        "For the basic case, considering $\\sigma_b=0$, our covariance matrix can be written as $AA^T$ if $A$ is given as follows,\r\n",
        "$$\r\n",
        "A=\r\n",
        "\\begin{bmatrix}\r\n",
        "\\sigma(x_1-c) & 0 & ... & 0\\\\ \r\n",
        "\\sigma(x_2-c) & 0 & ... & 0\\\\\r\n",
        "...& ... & ... & ...\\\\\r\n",
        "\\sigma(x_n-c)& 0 & ... & 0\r\n",
        "\\end{bmatrix}\r\n",
        "$$\r\n",
        "\r\n",
        "Now, $AZ$ will follow the desired multivariate normal distribution. So,\r\n",
        "$$\r\n",
        "Y = \r\n",
        "\\begin{bmatrix}\r\n",
        "y_1\\\\y_2\\\\...\\\\y_n\r\n",
        "\\end{bmatrix}\r\n",
        "=AZ=\r\n",
        "\\begin{bmatrix}\r\n",
        "\\sigma(x_1-c) & 0 & ... & 0\\\\ \r\n",
        "\\sigma(x_2-c) & 0 & ... & 0\\\\\r\n",
        "...& ... & ... & ...\\\\\r\n",
        "\\sigma(x_n-c)& 0 & ... & 0\r\n",
        "\\end{bmatrix}\r\n",
        "\\begin{bmatrix}\r\n",
        "z_1\\\\z_2\\\\...\\\\z_n\r\n",
        "\\end{bmatrix}=z_1\\sigma\r\n",
        "\\begin{bmatrix}\r\n",
        "x_1\\\\x_2\\\\...\\\\x_n\r\n",
        "\\end{bmatrix}-z_1\\sigma c \r\n",
        "$$\r\n",
        "Here, $Y$ follows $Y=mX+c$ linear form.\r\n",
        "\r\n",
        "Now, if we consider $\\sigma_b \\ne 0$ case, We can write the calculations as following,\r\n",
        "$$\r\n",
        "A=\r\n",
        "\\begin{bmatrix}\r\n",
        "\\sigma(x_1-c) & \\sigma_b & ... & 0\\\\ \r\n",
        "\\sigma(x_2-c) & \\sigma_b & ... & 0\\\\\r\n",
        "...& ... & ... & ...\\\\\r\n",
        "\\sigma(x_n-c)& \\sigma_b & ... & 0\r\n",
        "\\end{bmatrix}\r\n",
        "$$\r\n",
        "$$\r\n",
        "Y = \r\n",
        "\\begin{bmatrix}\r\n",
        "y_1\\\\y_2\\\\...\\\\y_n\r\n",
        "\\end{bmatrix}\r\n",
        "=AZ=\r\n",
        "\\begin{bmatrix}\r\n",
        "\\sigma(x_1-c) & \\sigma_b & ... & 0\\\\ \r\n",
        "\\sigma(x_2-c) & \\sigma_b & ... & 0\\\\\r\n",
        "...& ... & ... & ...\\\\\r\n",
        "\\sigma(x_n-c)& \\sigma_b & ... & 0\r\n",
        "\\end{bmatrix}\r\n",
        "\\begin{bmatrix}\r\n",
        "z_1\\\\z_2\\\\...\\\\z_n\r\n",
        "\\end{bmatrix}=z_1\\sigma\r\n",
        "\\begin{bmatrix}\r\n",
        "x_1\\\\x_2\\\\...\\\\x_n\r\n",
        "\\end{bmatrix}-(z_1\\sigma c - z_2\\sigma_b)\r\n",
        "$$\r\n",
        "\r\n",
        "Again, $Y$ follows $Y=mX+c$ linear form. \r\n",
        "\r\n",
        "End of the proof.\r\n",
        "\r\n",
        "  [1]: https://en.wikipedia.org/wiki/Multivariate_normal_distribution#Drawing_values_from_the_distribution\r\n",
        "  [2]: https://www.jgoertler.com/visual-exploration-gaussian-processes/#Prior"
      ]
    },
    {
      "cell_type": "code",
      "metadata": {
        "id": "9Z0vFha6v8Dh"
      },
      "source": [
        ""
      ],
      "execution_count": null,
      "outputs": []
    }
  ]
}